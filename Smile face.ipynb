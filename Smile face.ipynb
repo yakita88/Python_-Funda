{
 "cells": [
  {
   "cell_type": "code",
   "execution_count": null,
   "id": "d98cb455",
   "metadata": {},
   "outputs": [],
   "source": [
    "import turtle\n",
    "t = turtle.Turtle()\n",
    "\n",
    "#define pen size\n",
    "t.pensize(5) \n",
    " \n",
    "#define pen color\n",
    "t.pencolor(\"Blue\")\n",
    "\n",
    "#for outer bigger circle\n",
    "facesize = 200\n",
    "t.penup()\n",
    "t.goto(0, -200)\n",
    "t.pendown()\n",
    "t.circle(facesize)\n",
    "\n",
    "#for eyes\n",
    "#Màu nền mắt là màu đỏ\n",
    "t.fillcolor (\"red\")\n",
    "t.penup()\n",
    "t.goto(-100,50)\n",
    "t.pendown()\n",
    "\n",
    "# khai bao bien eyesize lưu kích thước mắt\n",
    "eye_size = 22\n",
    " \n",
    "t.begin_fill()\n",
    "t.circle(eye_size)\n",
    "t.end_fill()\n",
    "t.penup()\n",
    "\n",
    "t.goto(100,50)\n",
    "t.pendown()\n",
    "t.begin_fill()\n",
    "t.circle(eye_size)\n",
    "t.end_fill()\n",
    "\n",
    "#for nose\n",
    "t.penup ()\n",
    "t.goto(0,50)\n",
    "t.pendown()\n",
    "t.circle(-50, steps=3)\n",
    "\n",
    "# for smile\n",
    "t.penup()\n",
    "t.goto(-100, -70)\n",
    "t.pendown()\n",
    "t.right(90)\n",
    "t.circle(100,180)\n",
    "\n",
    "turtle.mainloop()\n",
    "\n"
   ]
  },
  {
   "cell_type": "code",
   "execution_count": null,
   "id": "df37de65",
   "metadata": {},
   "outputs": [],
   "source": []
  }
 ],
 "metadata": {
  "kernelspec": {
   "display_name": "Python 3 (ipykernel)",
   "language": "python",
   "name": "python3"
  },
  "language_info": {
   "codemirror_mode": {
    "name": "ipython",
    "version": 3
   },
   "file_extension": ".py",
   "mimetype": "text/x-python",
   "name": "python",
   "nbconvert_exporter": "python",
   "pygments_lexer": "ipython3",
   "version": "3.10.6"
  }
 },
 "nbformat": 4,
 "nbformat_minor": 5
}
