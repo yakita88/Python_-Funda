{
 "cells": [
  {
   "cell_type": "code",
   "execution_count": 2,
   "id": "4a355839",
   "metadata": {},
   "outputs": [
    {
     "name": "stdout",
     "output_type": "stream",
     "text": [
      "Nhập lượng tiền đã chi ($): 35.7\n",
      "Tổng tiền phải thanh toán (USD):  35.7\n"
     ]
    }
   ],
   "source": [
    "expense = float(input(\"Nhập lượng tiền đã chi ($): \"))\n",
    "\n",
    "if expense >= 150:\n",
    "    expense = expense - 50\n",
    "    print(\"Tổng tiền phải thanh toán ($): \", expense)\n",
    "elif expense >= 100:\n",
    "    expense = expense - 25\n",
    "    print(\"Tổng tiền phải thanh toán ($): \", expense)\n",
    "elif expense >= 75:\n",
    "    expense = expense - 15\n",
    "    print(\"Tổng tiền phải thanh toán ($): \", expense)\n",
    "else:\n",
    "    print(\"Tổng tiền phải thanh toán ($): \", expense)"
   ]
  },
  {
   "cell_type": "code",
   "execution_count": null,
   "id": "9b1c2552",
   "metadata": {},
   "outputs": [],
   "source": []
  }
 ],
 "metadata": {
  "kernelspec": {
   "display_name": "Python 3 (ipykernel)",
   "language": "python",
   "name": "python3"
  },
  "language_info": {
   "codemirror_mode": {
    "name": "ipython",
    "version": 3
   },
   "file_extension": ".py",
   "mimetype": "text/x-python",
   "name": "python",
   "nbconvert_exporter": "python",
   "pygments_lexer": "ipython3",
   "version": "3.10.6"
  }
 },
 "nbformat": 4,
 "nbformat_minor": 5
}
