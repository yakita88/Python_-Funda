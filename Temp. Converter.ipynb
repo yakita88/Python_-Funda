{
 "cells": [
  {
   "cell_type": "code",
   "execution_count": 4,
   "id": "83829ca4",
   "metadata": {},
   "outputs": [
    {
     "name": "stdout",
     "output_type": "stream",
     "text": [
      "Please enter temperature in Centigrade: 12.12\n",
      "12.12 C = 53.816 F\n"
     ]
    }
   ],
   "source": [
    "C = float(input(\"Please enter temperature in Centigrade: \"))\n",
    "F = (C * 9/5) + 32\n",
    "print(C, \"C =\", F, \"F\")"
   ]
  }
 ],
 "metadata": {
  "kernelspec": {
   "display_name": "Python 3 (ipykernel)",
   "language": "python",
   "name": "python3"
  },
  "language_info": {
   "codemirror_mode": {
    "name": "ipython",
    "version": 3
   },
   "file_extension": ".py",
   "mimetype": "text/x-python",
   "name": "python",
   "nbconvert_exporter": "python",
   "pygments_lexer": "ipython3",
   "version": "3.10.6"
  }
 },
 "nbformat": 4,
 "nbformat_minor": 5
}
