{
 "cells": [
  {
   "cell_type": "code",
   "execution_count": 6,
   "id": "7ee65df5",
   "metadata": {},
   "outputs": [
    {
     "name": "stdout",
     "output_type": "stream",
     "text": [
      "(20, 18)\n"
     ]
    }
   ],
   "source": [
    "def ham(L):\n",
    "\n",
    "    if len(L) < 2:\n",
    "        print(input(\"Nhap lai list\"))\n",
    "    for i in range(0,len(L)-1):\n",
    "        for j in range(i+1, len(L)):\n",
    "            if L[i] < L[j]:\n",
    "                L[i],L[j] = L[j],L[i]\n",
    "            else:\n",
    "                L[i], L[j]= L[i],L[j]\n",
    "    return L[0], L[1]\n",
    "        \n",
    "        \n",
    "L = [1,9,18,20,2,3,6]\n",
    "print(ham(L))\n",
    "    \n"
   ]
  },
  {
   "cell_type": "code",
   "execution_count": null,
   "id": "dd63db47",
   "metadata": {},
   "outputs": [],
   "source": []
  },
  {
   "cell_type": "code",
   "execution_count": null,
   "id": "f444cc69",
   "metadata": {},
   "outputs": [],
   "source": []
  }
 ],
 "metadata": {
  "kernelspec": {
   "display_name": "Python 3 (ipykernel)",
   "language": "python",
   "name": "python3"
  },
  "language_info": {
   "codemirror_mode": {
    "name": "ipython",
    "version": 3
   },
   "file_extension": ".py",
   "mimetype": "text/x-python",
   "name": "python",
   "nbconvert_exporter": "python",
   "pygments_lexer": "ipython3",
   "version": "3.10.6"
  }
 },
 "nbformat": 4,
 "nbformat_minor": 5
}
