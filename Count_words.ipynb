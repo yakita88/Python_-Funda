{
 "cells": [
  {
   "cell_type": "code",
   "execution_count": 31,
   "id": "cdeca4f9",
   "metadata": {},
   "outputs": [
    {
     "name": "stdout",
     "output_type": "stream",
     "text": [
      "{'buổi': 3, 'sáng': 3, 'hôm': 4, 'nay': 3, 'mùa': 3, 'đông': 2, 'đột': 1, 'nhiên': 1, 'đến': 2, 'không': 2, 'báo': 1, 'trước': 1, 'vừa': 3, 'mới': 3, 'ngày': 2, 'qua': 2, 'giời': 1, 'hãy': 1, 'còn': 4, 'nắng': 2, 'ấm': 3, 'và': 6, 'hanh': 1, 'cái': 13, 'về': 1, 'cuối': 1, 'tháng': 1, 'mười': 1, 'làm': 7, 'nứt': 1, 'nẻ': 1, 'đất': 2, 'ruộng': 1, 'ròn': 1, 'khô': 3, 'những': 7, 'chiếc': 1, 'lá': 3, 'rơi': 1, 'sơn': 22, 'chị': 5, 'chơi': 1, 'cỏ': 1, 'gà': 1, 'ở': 3, 'ngoài': 2, 'cánh': 2, 'đồng': 1, 'thấy': 6, 'nóng': 2, 'bứt': 1, 'chảy': 1, 'mồ': 1, 'hôi': 1, 'thế': 2, 'mà': 2, 'một': 5, 'đêm': 1, 'mưa': 1, 'rào': 1, 'trời': 2, 'bỗng': 1, 'đổi': 1, 'ra': 8, 'gió': 2, 'bấc': 1, 'rồi': 5, 'lạnh': 3, 'đâu': 1, 'cho': 9, 'người': 4, 'ta': 1, 'tưởng': 1, 'đang': 2, 'giữa': 1, 'rét': 10, 'mướt': 1, 'tung': 1, 'chăn': 3, 'tỉnh': 2, 'dậy': 3, 'nhưng': 1, 'khôg': 1, 'bước': 2, 'xuống': 2, 'giường': 1, 'ngay': 1, 'như': 4, 'mọi': 3, 'khi': 1, 'ngồi': 5, 'thu': 1, 'tay': 5, 'vào': 5, 'trong': 3, 'bọc': 1, 'bên': 3, 'cạnh': 1, 'đứa': 1, 'em': 4, 'bévẫn': 1, 'nắm': 1, 'ngủ': 2, 'kỹ': 1, 'mẹ': 7, 'đã': 3, 'trở': 1, 'quạt': 1, 'hỏa': 2, 'lò': 2, 'để': 3, 'pha': 1, 'nước': 6, 'chè': 4, 'uống': 2, 'nhìn': 2, 'mặc': 4, 'áo': 11, 'cả': 3, 'sân': 1, 'trắng': 2, 'luôn': 2, 'cơn': 1, 'vi': 1, 'vu': 1, 'bốc': 2, 'lên': 8, 'màn': 1, 'bụi': 1, 'nhỏ': 2, 'thổi': 1, 'lăn': 1, 'lạo': 1, 'xạo': 1, 'u': 1, 'ám': 1, 'toàn': 1, 'màu': 2, 'đục': 1, 'cây': 1, 'lan': 3, 'trông': 1, 'chậu': 1, 'rung': 1, 'động': 1, 'hình': 1, 'sắc': 1, 'lại': 4, 'vì': 1, 'cũng': 6, 'vội': 1, 'vơ': 1, 'lấy': 4, 'trùm': 1, 'đầu': 3, 'cất': 1, 'tiếng': 1, 'gọi': 1, 'nghe': 1, 'đặt': 3, 'chén': 4, 'bảo': 3, 'con': 2, 'buồng': 2, 'thúng': 2, 'đi': 4, 'quay': 1, 'sang': 1, 'đây': 2, 'khéo': 1, 'bé': 1, 'kéo': 1, 'đắp': 1, 'xếp': 1, 'bằng': 2, 'khay': 1, 'rót': 1, 'cầm': 3, 'ấp': 1, 'mặt': 2, 'má': 1, 'miệng': 1, 'hơi': 2, 'bà': 2, 'thường': 1, 'vẫn': 1, 'mắt': 1, 'vú': 4, 'già': 2, 'xù': 2, 'bông': 1, 'rách': 1, 'xách': 1, 'siêu': 1, 'từ': 4, 'dưới': 1, 'nhà': 1, 'xuýt': 1, 'xoa': 1, 'nói': 1, 'quá': 1, 'múc': 1, 'cóng': 1, 'giơ': 2, 'hơ': 1, 'trên': 1, 'hỏi': 1, 'năm': 6, 'sớm': 2, 'hơn': 1, 'nhỉ': 1, 'vẻ': 1, 'nhớ': 3, 'đáp': 1, 'chả': 1, 'mợ': 1, 'cân': 1, 'gạo': 1, 'sông': 1, 'gớm': 1, 'sao': 1, 'tôi': 1, 'sai': 1, 'chợ': 1, 'cứ': 1, 'run': 1, 'cập': 1, 'ấy': 2, 'rõ': 1, 'rệt': 1, 'lắm': 2, 'thôi': 1, 'khệ': 1, 'nệ': 1, 'ôm': 1, 'quần': 3, 'phản': 1, 'vỉ': 1, 'buồm': 1, 'lục': 1, 'đống': 1, 'nhận': 1, 'ngoái': 1, 'kia': 1, 'vệ': 1, 'sinh': 1, 'nâu': 1, 'sẫm': 1, 'với': 1, 'dạ': 1, 'khâu': 1, 'chỉ': 1, 'đỏ': 1, 'mát': 1, 'bộ': 1, 'thoảng': 1, 'mốc': 1, 'của': 1, 'vải': 1, 'gấp': 1, 'lâu': 2, 'hòm': 1, 'bao': 1, 'giờ': 1}\n"
     ]
    }
   ],
   "source": [
    "vanban = '''Buổi sáng hôm nay, mùa đông đột nhiên đến, không báo trước. Vừa mới ngày hôm qua giời hãy còn nắng ấm và hanh, cái nắng về cuối tháng mười làm nứt nẻ đất ruộng, và làm ròn khô những chiếc lá rơi. Sơn và chị chơi cỏ gà ở ngoài cánh đồng còn thấy nóng bứt, chảy mồ hôi.\n",
    "\n",
    "Thế mà qua một đêm mưa rào, trời bỗng đổi ra gió bấc, rồi cái lạnh ở đâu đến làm cho người ta tưởng đang ở giữa mùa đông rét mướt. Sơn tung chăn tỉnh dậy, nhưng khôg bước xuống giường ngay như mọi khi, còn ngồi thu tay vào trong bọc, bên cạnh đứa em bévẫn nắm tay ngủ kỹ. Chị Sơn và mẹ Sơn đã trở dậy, đang ngồi quạt hỏa lò để pha nước chè uống. Sơn nhìn thấy mọi người đã mặc áo rét cả rồi.\n",
    "\n",
    "Nhìn ra ngoài sân, Sơn thấy đất khô trắng, luôn luôn cơn gió vi vu làm bốc lên những màn bụi nhỏ, thổi lăn những cái lá khô lạo xạo. Trời không u ám, toàn một màu trắng đục. Những cây lan trông chậu, lá rung động và hình như sắc lại vì rét.\n",
    "\n",
    "Sơn cũng thấy lạnh, vội vơ lấy cái chăn trùm lên đầu rồi cất tiếng gọi chị. Mẹ Sơn nghe thấy, đặt chén nước chè xuống, bảo chị Lan:\n",
    "\n",
    "- Con vào buồng lấy thúng áo ra mẹ mặc cho em, đi.\n",
    "\n",
    "Rồi quay lại bảo Sơn:\n",
    "\n",
    "- Con sang đây mà ngồi cho ấm. Bước khéo để cho em bé ngủ.\n",
    "\n",
    "Sơn kéo chăn lên đắp cho em, ngồi xếp bằng bên khay nước. Mẹ Sơn rót cho một chén, Sơn cầm lấy chén chè nóng ấp vào mặt, vào má cho ấm, rồi để mặt vào miệng chén cho hơi bốc lên. Bà Sơn thường vẫn bảo làm thế cho tỉnh mắt.\n",
    "\n",
    "Người vú già xù xù cái áo bông cánh rách, xách siêu nước từ dưới nhà lên, vừa xuýt xoa vừa nói:\n",
    "\n",
    "- Rét quá! Múc nước cóng cả tay.\n",
    "\n",
    "Vú giơ tay hơ trên hỏa lò. Mẹ Sơn hỏi:\n",
    "\n",
    "- Năm nay rét sớm hơn mọi năm vú nhỉ?\n",
    "\n",
    "Người vú già ra vẻ nhớ lại, đáp:\n",
    "\n",
    "- Cũng chả bằng cái năm mợ đi cân gạo bên Sông. Gớm, mới rét làm sao! Sáng tôi dậy, bà sai đi chợ, cứ run lên cầm cập.\n",
    "\n",
    "Sơn cũng nhớ cái rét năm ấy rõ rệt lắm, như mới đây thôi. Buổi sớm hôm ấy, mẹ Sơn cũng ngồi uống nước chè như sáng hôm nay và cũng lấy áo rét ra mặc.\n",
    "\n",
    "Chị Lan từ trong buồng đi ra, khệ nệ ôm cái thúng quần áo đặt lên đầu phản. Mẹ Sơn đặt cái vỉ buồm lục đống quần áo rét. Sơn nhận ra cũng những cái áo Sơn đã mặc năm ngoái, năm kia: một cái áo vệ sinh màu nâu sẫm với một cái áo dạ khâu chỉ đỏ. Sơn cầm giơ những cái áo lên, thấy mát lạnh cả tay. Từ bộ quần áo thoảng ra hơi mốc của vải gấp lâu trong hòm, làm Sơn nhớ lại những buổi đầu mùa rét từ bao giờ, lâu lắm, ngày Sơn còn nhỏ.'''\n",
    "\n",
    "vanban = vanban.lower()\n",
    "vanban = vanban.replace(\",\",\"\")\n",
    "vanban = vanban.replace(\".\",\"\")\n",
    "vanban = vanban.replace(\":\",\"\")\n",
    "vanban = vanban.replace(\"!\",\"\")\n",
    "vanban = vanban.replace(\"-\",\"\")\n",
    "vanban = vanban.replace(\"?\",\"\")\n",
    "vanban = vanban.split()\n",
    "\n",
    "D_sotu = {}\n",
    "\n",
    "for i in vanban:\n",
    "    if i not in D_sotu:\n",
    "        D_sotu[i] = 0\n",
    "    D_sotu[i] += 1\n",
    "\n",
    "print(D_sotu)\n"
   ]
  },
  {
   "cell_type": "code",
   "execution_count": null,
   "id": "9d871f57",
   "metadata": {},
   "outputs": [],
   "source": []
  }
 ],
 "metadata": {
  "kernelspec": {
   "display_name": "Python 3 (ipykernel)",
   "language": "python",
   "name": "python3"
  },
  "language_info": {
   "codemirror_mode": {
    "name": "ipython",
    "version": 3
   },
   "file_extension": ".py",
   "mimetype": "text/x-python",
   "name": "python",
   "nbconvert_exporter": "python",
   "pygments_lexer": "ipython3",
   "version": "3.10.6"
  }
 },
 "nbformat": 4,
 "nbformat_minor": 5
}
