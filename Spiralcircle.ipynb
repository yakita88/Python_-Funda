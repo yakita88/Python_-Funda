{
 "cells": [
  {
   "cell_type": "code",
   "execution_count": null,
   "id": "42d9360c",
   "metadata": {},
   "outputs": [],
   "source": [
    "import turtle\n",
    "\n",
    "t = turtle.Turtle()\n",
    "i = 1\n",
    "\n",
    "while i < 360:\n",
    "    t.circle(i,20)\n",
    "    i += 1\n",
    "turtle.loop()"
   ]
  },
  {
   "cell_type": "code",
   "execution_count": null,
   "id": "8d3b5a65",
   "metadata": {},
   "outputs": [],
   "source": [
    "import turtle\n",
    "\n",
    "t = turtle.Turtle()\n",
    "i = 1\n",
    "\n",
    "while i < 360:\n",
    "    t.fd(i)\n",
    "    t.lt(30)\n",
    "    i += 1\n",
    "turtle.loop()"
   ]
  },
  {
   "cell_type": "code",
   "execution_count": null,
   "id": "7b44c6d3",
   "metadata": {},
   "outputs": [],
   "source": []
  }
 ],
 "metadata": {
  "kernelspec": {
   "display_name": "Python 3 (ipykernel)",
   "language": "python",
   "name": "python3"
  },
  "language_info": {
   "codemirror_mode": {
    "name": "ipython",
    "version": 3
   },
   "file_extension": ".py",
   "mimetype": "text/x-python",
   "name": "python",
   "nbconvert_exporter": "python",
   "pygments_lexer": "ipython3",
   "version": "3.10.6"
  }
 },
 "nbformat": 4,
 "nbformat_minor": 5
}
