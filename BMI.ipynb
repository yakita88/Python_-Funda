{
 "cells": [
  {
   "cell_type": "code",
   "execution_count": 5,
   "id": "779f49b6",
   "metadata": {},
   "outputs": [
    {
     "name": "stdout",
     "output_type": "stream",
     "text": [
      "Nhập chiều cao (m): 15\n",
      "Nhập cân nặng (kg): 22\n",
      "Nhập tuổi: 13\n",
      "Độ tuổi nhỏ hơn 20\n"
     ]
    }
   ],
   "source": [
    "height = float(input(\"Nhập chiều cao (m): \"))\n",
    "weight = float(input(\"Nhập cân nặng (kg): \"))\n",
    "age = float(input(\"Nhập tuổi: \"))\n",
    "\n",
    "BMI = round(weight/(height**2),2)\n",
    "\n",
    "if age >= 20:\n",
    "    if BMI >= 40:\n",
    "        print(\"BMI = \",BMI, \"Béo phì cấp độ III\")\n",
    "    elif BMI >= 35:\n",
    "        print(\"BMI = \",BMI, \"Béo phì cấp độ II\")\n",
    "    elif BMI >= 30:\n",
    "        print(\"BMI = \",BMI, \"Béo phì cấp độ I\")\n",
    "    elif BMI >= 25:\n",
    "        print(\"BMI = \",BMI, \"Thừa cân\")\n",
    "    elif BMI >= 18.5:\n",
    "        print(\"BMI = \",BMI, \"Bình thường\")\n",
    "    elif BMI >= 17:\n",
    "        print(\"BMI = \",BMI, \"Gầy cấp độ I\")\n",
    "    elif BMI >= 16:\n",
    "        print(\"BMI = \",BMI, \"Gầy cấp độ II\")\n",
    "    else:\n",
    "        print(\"BMI = \",BMI, \"Gầy cấp độ III\")\n",
    "else:\n",
    "    print(\"Độ tuổi nhỏ hơn 20\")\n"
   ]
  }
 ],
 "metadata": {
  "kernelspec": {
   "display_name": "Python 3 (ipykernel)",
   "language": "python",
   "name": "python3"
  },
  "language_info": {
   "codemirror_mode": {
    "name": "ipython",
    "version": 3
   },
   "file_extension": ".py",
   "mimetype": "text/x-python",
   "name": "python",
   "nbconvert_exporter": "python",
   "pygments_lexer": "ipython3",
   "version": "3.10.6"
  }
 },
 "nbformat": 4,
 "nbformat_minor": 5
}
