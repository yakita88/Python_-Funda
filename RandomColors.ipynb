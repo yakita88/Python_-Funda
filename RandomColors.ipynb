{
 "cells": [
  {
   "cell_type": "code",
   "execution_count": null,
   "id": "b89faf26",
   "metadata": {},
   "outputs": [],
   "source": [
    "import turtle\n",
    "import random\n",
    "    \n",
    "number = random.uniform(0, 3)\n",
    "intNumber = int(number)\n",
    " \n",
    "wn = turtle.Screen()\n",
    "wn.bgcolor(\"black\")\n",
    "wn.title(\"Circle\")\n",
    " \n",
    "ball = turtle.Turtle()\n",
    "ball.shape('circle')\n",
    " \n",
    "if intNumber < 1:\n",
    "    ball.color('green')\n",
    "elif intNumber < 2:\n",
    "    ball.color('yellow')\n",
    "elif intNumber < 3:\n",
    "    ball.color('red')\n",
    "turtle.done()"
   ]
  },
  {
   "cell_type": "code",
   "execution_count": null,
   "id": "36ac3c50",
   "metadata": {},
   "outputs": [],
   "source": []
  }
 ],
 "metadata": {
  "kernelspec": {
   "display_name": "Python 3 (ipykernel)",
   "language": "python",
   "name": "python3"
  },
  "language_info": {
   "codemirror_mode": {
    "name": "ipython",
    "version": 3
   },
   "file_extension": ".py",
   "mimetype": "text/x-python",
   "name": "python",
   "nbconvert_exporter": "python",
   "pygments_lexer": "ipython3",
   "version": "3.10.6"
  }
 },
 "nbformat": 4,
 "nbformat_minor": 5
}
