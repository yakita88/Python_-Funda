{
 "cells": [
  {
   "cell_type": "code",
   "execution_count": 1,
   "id": "242d7354",
   "metadata": {},
   "outputs": [
    {
     "name": "stdout",
     "output_type": "stream",
     "text": [
      "Nhập số lượng USD: 100\n",
      "Nhập tỷ giá USD/VND: 23\n",
      "100.0 USD = 2300.0 VND\n"
     ]
    }
   ],
   "source": [
    "usd = float(input(\"Nhập số lượng USD: \"))\n",
    "rate = float(input(\"Nhập tỷ giá USD/VND: \"))\n",
    "\n",
    "vnd = rate * usd\n",
    "\n",
    "print(\"{usd} USD = {vnd} VND\".format(usd = usd, vnd = vnd))"
   ]
  },
  {
   "cell_type": "code",
   "execution_count": null,
   "id": "b6ff65c4",
   "metadata": {},
   "outputs": [],
   "source": []
  }
 ],
 "metadata": {
  "kernelspec": {
   "display_name": "Python 3 (ipykernel)",
   "language": "python",
   "name": "python3"
  },
  "language_info": {
   "codemirror_mode": {
    "name": "ipython",
    "version": 3
   },
   "file_extension": ".py",
   "mimetype": "text/x-python",
   "name": "python",
   "nbconvert_exporter": "python",
   "pygments_lexer": "ipython3",
   "version": "3.10.6"
  }
 },
 "nbformat": 4,
 "nbformat_minor": 5
}
