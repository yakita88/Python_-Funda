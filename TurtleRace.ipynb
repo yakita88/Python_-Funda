{
 "cells": [
  {
   "cell_type": "code",
   "execution_count": null,
   "id": "7c945264",
   "metadata": {},
   "outputs": [
    {
     "name": "stdout",
     "output_type": "stream",
     "text": [
      "{'turtle': <turtle.Turtle object at 0x11038e680>, 'time': 0}\n"
     ]
    }
   ],
   "source": [
    "import turtle as t\n",
    "import random\n",
    "import datetime as dt\n",
    "\n",
    "\n",
    "screen = t.Screen()\n",
    "screen.setup(height=500, width=600)\n",
    "pen = t.Turtle(visible=False)\n",
    "pen.penup()\n",
    "pen.speed(0)\n",
    "pen.goto(-250, 200)\n",
    "for i in range(21):\n",
    "    pen.write(i)\n",
    "    pen.forward(25)\n",
    "\n",
    "\n",
    "x = -250\n",
    "pen.goto(-250, 200)\n",
    "pen.right(90)\n",
    "for i in range(21):\n",
    "    for j in range(10):\n",
    "        pen.pendown()\n",
    "        pen.forward(20)\n",
    "        pen.penup()\n",
    "        pen.forward(10)\n",
    "    pen.penup()\n",
    "    pen.forward(5)\n",
    "    pen.write(i)\n",
    "    pen.goto(x + (i + 1) * 25, 200)\n",
    "    all_turtles = []\n",
    "    \n",
    "    \n",
    "y_position = [160, 100, 40, -20]\n",
    "colors = ['red', 'green', 'blue', 'black']\n",
    "for turtle in range(0, 4):\n",
    "    turtles = t.Turtle(shape=\"turtle\")\n",
    "    turtles.penup()\n",
    "    \n",
    "    turtles.goto(x=-250, y=y_position[turtle])\n",
    "    \n",
    "    turtles.color(colors[turtle])\n",
    "    for i in range(5):\n",
    "        turtles.left(72)\n",
    "        \n",
    "    all_turtles.append(turtles)\n",
    "    \n",
    "def random_walk(turtles):\n",
    "    global run\n",
    "    obj = {}\n",
    "    for turtle in turtles:\n",
    "        turtle.forward(random.randint(1, 10))\n",
    "        sec1 = dt.datetime.now().second\n",
    "        minn1 = dt.datetime.now().minute\n",
    "        hr1 = dt.datetime.now().hour\n",
    "        time1 = sec1 + minn1*60 + hr1*3600\n",
    "        if turtle.xcor() > 250:\n",
    "            run = False\n",
    "            sec2 = dt.datetime.now().second\n",
    "            minn2 = dt.datetime.now().minute\n",
    "            hr2 = dt.datetime.now().hour\n",
    "            time2 = sec2 + minn2*60 + hr2*3600\n",
    "            time = time2 - time1\n",
    "            obj[\"turtle\"] = turtle\n",
    "            obj[\"time\"] = time\n",
    "            print(obj)\n",
    "            return turtle\n",
    "            \n",
    "run = True\n",
    "while run:\n",
    "    random_walk(all_turtles)\n",
    "\n",
    "screen.exitonclick()"
   ]
  }
 ],
 "metadata": {
  "kernelspec": {
   "display_name": "Python 3 (ipykernel)",
   "language": "python",
   "name": "python3"
  },
  "language_info": {
   "codemirror_mode": {
    "name": "ipython",
    "version": 3
   },
   "file_extension": ".py",
   "mimetype": "text/x-python",
   "name": "python",
   "nbconvert_exporter": "python",
   "pygments_lexer": "ipython3",
   "version": "3.10.6"
  }
 },
 "nbformat": 4,
 "nbformat_minor": 5
}
