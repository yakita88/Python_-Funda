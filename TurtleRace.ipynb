{
 "cells": [
  {
   "cell_type": "code",
   "execution_count": 1,
   "id": "7c945264",
   "metadata": {},
   "outputs": [
    {
     "ename": "UnboundLocalError",
     "evalue": "local variable 'time' referenced before assignment",
     "output_type": "error",
     "traceback": [
      "\u001b[0;31m---------------------------------------------------------------------------\u001b[0m",
      "\u001b[0;31mUnboundLocalError\u001b[0m                         Traceback (most recent call last)",
      "Cell \u001b[0;32mIn [1], line 73\u001b[0m\n\u001b[1;32m     71\u001b[0m run \u001b[38;5;241m=\u001b[39m \u001b[38;5;28;01mTrue\u001b[39;00m\n\u001b[1;32m     72\u001b[0m \u001b[38;5;28;01mwhile\u001b[39;00m run:\n\u001b[0;32m---> 73\u001b[0m     random_walk(all_turtles)\n\u001b[1;32m     74\u001b[0m \u001b[38;5;28mprint\u001b[39m(\u001b[38;5;124m\"\u001b[39m\u001b[38;5;124mRua chien thang: \u001b[39m\u001b[38;5;124m\"\u001b[39m,turtle)\n\u001b[1;32m     75\u001b[0m \u001b[38;5;28mprint\u001b[39m(\u001b[38;5;124m\"\u001b[39m\u001b[38;5;124mThoi gian di chuyen: \u001b[39m\u001b[38;5;124m\"\u001b[39m,time)\n",
      "Cell \u001b[0;32mIn [1], line 69\u001b[0m, in \u001b[0;36mrandom_walk\u001b[0;34m(turtles)\u001b[0m\n\u001b[1;32m     67\u001b[0m     time2 \u001b[38;5;241m=\u001b[39m sec \u001b[38;5;241m+\u001b[39m minn\u001b[38;5;241m*\u001b[39m\u001b[38;5;241m60\u001b[39m \u001b[38;5;241m+\u001b[39m hr\u001b[38;5;241m*\u001b[39m\u001b[38;5;241m3600\u001b[39m\n\u001b[1;32m     68\u001b[0m     time \u001b[38;5;241m=\u001b[39m time2 \u001b[38;5;241m-\u001b[39m time1\n\u001b[0;32m---> 69\u001b[0m \u001b[38;5;28;01mreturn\u001b[39;00m turtle,\u001b[43mtime\u001b[49m\n",
      "\u001b[0;31mUnboundLocalError\u001b[0m: local variable 'time' referenced before assignment"
     ]
    }
   ],
   "source": [
    "import turtle as t\n",
    "import random\n",
    "import datetime as dt\n",
    "\n",
    "\n",
    "sec = 0\n",
    "minn = 0\n",
    "hr = 0\n",
    "\n",
    "\n",
    "screen = t.Screen()\n",
    "screen.setup(height=500, width=600)\n",
    "pen = t.Turtle(visible=False)\n",
    "pen.penup()\n",
    "pen.speed(0)\n",
    "pen.goto(-250, 200)\n",
    "for i in range(21):\n",
    "    pen.write(i)\n",
    "    pen.forward(25)\n",
    "\n",
    "\n",
    "x = -250\n",
    "pen.goto(-250, 200)\n",
    "pen.right(90)\n",
    "for i in range(21):\n",
    "    for j in range(10):\n",
    "        pen.pendown()\n",
    "        pen.forward(20)\n",
    "        pen.penup()\n",
    "        pen.forward(10)\n",
    "    pen.penup()\n",
    "    pen.forward(5)\n",
    "    pen.write(i)\n",
    "    pen.goto(x + (i + 1) * 25, 200)\n",
    "    all_turtles = []\n",
    "    \n",
    "    \n",
    "y_position = [160, 100, 40, -20]\n",
    "colors = ['red', 'green', 'blue', 'black']\n",
    "for turtle in range(0, 4):\n",
    "    turtles = t.Turtle(shape=\"turtle\")\n",
    "    turtles.penup()\n",
    "    \n",
    "    turtles.goto(x=-250, y=y_position[turtle])\n",
    "    \n",
    "    turtles.color(colors[turtle])\n",
    "    for i in range(5):\n",
    "        turtles.left(72)\n",
    "        \n",
    "    all_turtles.append(turtles)\n",
    "    \n",
    "def random_walk(turtles):\n",
    "    global run\n",
    "    \n",
    "    for turtle in turtles:\n",
    "        turtle.forward(random.randint(1, 10))\n",
    "        sec = dt.datetime.now().second\n",
    "        minn = dt.datetime.now().minute\n",
    "        hr = dt.datetime.now().hour\n",
    "        time1 = sec + minn*60 + hr*3600\n",
    "        \n",
    "        if turtle.xcor() > 250:\n",
    "            run = False\n",
    "            sec = dt.datetime.now().second\n",
    "            minn = dt.datetime.now().minute\n",
    "            hr = dt.datetime.now().hour\n",
    "            time2 = sec + minn*60 + hr*3600\n",
    "            time = time2 - time1\n",
    "        return turtle, time\n",
    "            \n",
    "run = True\n",
    "while run:\n",
    "    random_walk(all_turtles)\n",
    "print(\"Rua chien thang: \",turtle)\n",
    "print(\"Thoi gian di chuyen: \",time)\n",
    "screen.exitonclick()"
   ]
  },
  {
   "cell_type": "code",
   "execution_count": null,
   "id": "8c490b0f",
   "metadata": {},
   "outputs": [],
   "source": []
  },
  {
   "cell_type": "code",
   "execution_count": null,
   "id": "c259384f",
   "metadata": {},
   "outputs": [],
   "source": []
  }
 ],
 "metadata": {
  "kernelspec": {
   "display_name": "Python 3 (ipykernel)",
   "language": "python",
   "name": "python3"
  },
  "language_info": {
   "codemirror_mode": {
    "name": "ipython",
    "version": 3
   },
   "file_extension": ".py",
   "mimetype": "text/x-python",
   "name": "python",
   "nbconvert_exporter": "python",
   "pygments_lexer": "ipython3",
   "version": "3.10.7"
  }
 },
 "nbformat": 4,
 "nbformat_minor": 5
}
