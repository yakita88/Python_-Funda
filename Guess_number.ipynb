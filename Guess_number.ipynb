{
 "cells": [
  {
   "cell_type": "code",
   "execution_count": 1,
   "id": "1f489654",
   "metadata": {},
   "outputs": [
    {
     "name": "stdout",
     "output_type": "stream",
     "text": [
      "0\n",
      "Nhap gia tri tu 1 - 3: 2\n",
      "So nguoi choi da nhap:  2\n",
      "Current number =  2\n",
      "2\n",
      "Nhap gia tri tu 1 - 3: 2\n",
      "So nguoi choi da nhap:  2\n",
      "Current number =  4\n",
      "4\n",
      "Nhap gia tri tu 1 - 3: 2\n",
      "So nguoi choi da nhap:  2\n",
      "Current number =  6\n",
      "6\n",
      "May da chon:  1\n",
      "Current number =  7\n",
      "Do you want to play again: y\n"
     ]
    }
   ],
   "source": [
    "import random\n",
    "\n",
    "current_number = 0\n",
    "stopgame = False\n",
    "\n",
    "while current_number <= 21:\n",
    "    print(current_number)\n",
    "    current_player = random.randint(0,1)\n",
    "    if current_player == 0:\n",
    "        current_player= \"human\"\n",
    "        player_choice = int(input(\"Nhap gia tri tu 1 - 3: \"))\n",
    "        print(\"So nguoi choi da nhap: \", player_choice)\n",
    "        current_number += player_choice\n",
    "        print(\"Current number = \",current_number)\n",
    "        if current_number >= 21:\n",
    "            print(\"Current number = \",current_number, \"Nguoi choi da thua\")\n",
    "    else:\n",
    "        current_player= \"computer\"\n",
    "        computer_choice = random.randint(1,3)\n",
    "        print(\"May da chon: \",computer_choice)\n",
    "        current_number += computer_choice\n",
    "        print(\"Current number = \",current_number)\n",
    "        if current_number >= 21:\n",
    "            print(\"Current number = \",current_number, \"May da thua\")\n",
    "            stopgame = True\n",
    "        \n",
    "        if stopgame==True:\n",
    "            continue\n",
    "        else:\n",
    "            break\n",
    "\n",
    "\n",
    "play_again = input(\"Do you want to play again: \")\n",
    "if play_again == \"y\":\n",
    "    stopgame == True\n",
    "else:\n",
    "    stopgame == False\n",
    "    \n",
    "\n",
    "    "
   ]
  },
  {
   "cell_type": "markdown",
   "id": "bb81d118",
   "metadata": {},
   "source": [
    "## "
   ]
  },
  {
   "cell_type": "code",
   "execution_count": null,
   "id": "7120cfe0",
   "metadata": {},
   "outputs": [],
   "source": []
  }
 ],
 "metadata": {
  "kernelspec": {
   "display_name": "Python 3 (ipykernel)",
   "language": "python",
   "name": "python3"
  },
  "language_info": {
   "codemirror_mode": {
    "name": "ipython",
    "version": 3
   },
   "file_extension": ".py",
   "mimetype": "text/x-python",
   "name": "python",
   "nbconvert_exporter": "python",
   "pygments_lexer": "ipython3",
   "version": "3.10.6"
  },
  "vscode": {
   "interpreter": {
    "hash": "aee8b7b246df8f9039afb4144a1f6fd8d2ca17a180786b69acc140d282b71a49"
   }
  }
 },
 "nbformat": 4,
 "nbformat_minor": 5
}
