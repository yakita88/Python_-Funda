{
 "cells": [
  {
   "cell_type": "code",
   "execution_count": 1,
   "id": "95ce426d",
   "metadata": {},
   "outputs": [
    {
     "name": "stdout",
     "output_type": "stream",
     "text": [
      "Nhap chuoi: Em yeu bac hoa\n",
      "14\n"
     ]
    }
   ],
   "source": [
    "def count(string):\n",
    "    kq = 0\n",
    "    for char in string:\n",
    "        kq += 1\n",
    "    return kq\n",
    "\n",
    "string = input(\"Nhap chuoi: \")\n",
    "print(count(string))"
   ]
  },
  {
   "cell_type": "code",
   "execution_count": null,
   "id": "0278936e",
   "metadata": {},
   "outputs": [],
   "source": []
  }
 ],
 "metadata": {
  "kernelspec": {
   "display_name": "Python 3 (ipykernel)",
   "language": "python",
   "name": "python3"
  },
  "language_info": {
   "codemirror_mode": {
    "name": "ipython",
    "version": 3
   },
   "file_extension": ".py",
   "mimetype": "text/x-python",
   "name": "python",
   "nbconvert_exporter": "python",
   "pygments_lexer": "ipython3",
   "version": "3.10.7"
  }
 },
 "nbformat": 4,
 "nbformat_minor": 5
}
