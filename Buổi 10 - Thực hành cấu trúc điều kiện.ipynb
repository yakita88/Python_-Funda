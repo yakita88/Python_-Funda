{
 "cells": [
  {
   "cell_type": "markdown",
   "id": "dcdb816e",
   "metadata": {},
   "source": [
    "# Thực hành cấu trúc điều khiển\n",
    "\n",
    "### Bài 1\n",
    "\n",
    "Cho phương trình bậc 2: ax^2 + bx + c = 0\n",
    "\n",
    "Nhập a, b, c\n",
    "\n",
    "Giải và biện luận phương trình trên"
   ]
  },
  {
   "cell_type": "code",
   "execution_count": 12,
   "id": "b5a5c325",
   "metadata": {},
   "outputs": [
    {
     "name": "stdout",
     "output_type": "stream",
     "text": [
      "Nhap a: 0\n",
      "Nhap b: 0\n",
      "Nhap c: 4\n",
      "Phuong trinh vo nghiem\n"
     ]
    }
   ],
   "source": [
    "a = float(input(\"Nhap a: \"))\n",
    "b = float(input(\"Nhap b: \"))\n",
    "c = float(input(\"Nhap c: \"))\n",
    "\n",
    "if a != 0:\n",
    "    delta = b**2 - 4*a*c\n",
    "    if delta < 0:\n",
    "        print(\"Phuong trinh vo nghiem\")\n",
    "    elif delta == 0:\n",
    "        x = (-b) / (2*a)\n",
    "        print(\"Phuong trinh co nghiem kep x1 = x2 = \", x)\n",
    "    else:\n",
    "        x1 = ((-b) - (delta**0.5))/2*a\n",
    "        x2 = ((-b) + (delta**0.5))/2*a\n",
    "        print(\"Phuong trinh co hai nghiem x1 = \", x1, \"x2 = \", x2)\n",
    "elif b != 0:\n",
    "    x = (-c)/b\n",
    "    print(\"Phuon trinh co mot nghiem x = \", x)\n",
    "elif c == 0:\n",
    "    print (\"Phuong trinh vo so nghiem\")\n",
    "else:\n",
    "    print(\"Phuong trinh vo nghiem\")"
   ]
  },
  {
   "cell_type": "markdown",
   "id": "6f7d329d",
   "metadata": {},
   "source": [
    "### Bài 2\n",
    "\n",
    "Hãy nhập vào một số\n",
    "\n",
    "Xác định coi đó có phải là số nguyên tố hay không"
   ]
  },
  {
   "cell_type": "code",
   "execution_count": null,
   "id": "049c85f5",
   "metadata": {},
   "outputs": [],
   "source": [
    "a = int(input(\"Nhap a: \"))\n",
    "count = 0\n",
    "\n",
    "if a < 0:\n",
    "    print(\" Nhap lai a: \")\n",
    "    \n",
    "elif a < 2:\n",
    "    print(a, \"Khong phai la so nguyen to\")\n",
    "    \n",
    "else:\n",
    "    for i in range (1, a+1):\n",
    "        if a % i == 0:\n",
    "            count += 1\n",
    "        i += 1\n",
    "        \n",
    "    if count == 2:\n",
    "        print(a, \"la so nguyen to\")\n",
    "    else:\n",
    "        print(a, \"khong phai la so nguyen to\")\n",
    "    \n",
    "\n"
   ]
  },
  {
   "cell_type": "markdown",
   "id": "75f7717b",
   "metadata": {},
   "source": [
    "### Bài 3\n",
    "\n",
    "Hãy nhập vào số n\n",
    "\n",
    "Hãy đếm số chữ số 0 tận cùng của n giai thừa\n",
    "\n",
    "(Bài này nâng cao, mọi người có thể bỏ qua)"
   ]
  },
  {
   "cell_type": "code",
   "execution_count": 10,
   "id": "789e0e76",
   "metadata": {},
   "outputs": [
    {
     "name": "stdout",
     "output_type": "stream",
     "text": [
      "Nhap n: 20\n",
      "4\n"
     ]
    }
   ],
   "source": [
    "n = int(input(\"Nhap n: \"))\n",
    "\n",
    "count_5 = 0\n",
    "k = 1\n",
    "\n",
    "if n ==0:\n",
    "    \n",
    "    print(\"tan cung co 1 chu so 0\")\n",
    "else: \n",
    "    while 5**k <= n and k <= n:\n",
    "        count_5 += n//5**k\n",
    "        k += 1\n",
    "    print(count_5)\n",
    "\n"
   ]
  },
  {
   "cell_type": "markdown",
   "id": "29cd6c81",
   "metadata": {},
   "source": [
    "### Bài 4\n",
    "\n",
    "In ra tất cả các số chia hết cho 3 nhỏ hơn 100"
   ]
  },
  {
   "cell_type": "code",
   "execution_count": 4,
   "id": "0b848981",
   "metadata": {},
   "outputs": [
    {
     "name": "stdout",
     "output_type": "stream",
     "text": [
      "0\n",
      "3\n",
      "6\n",
      "9\n",
      "12\n",
      "15\n",
      "18\n",
      "21\n",
      "24\n",
      "27\n",
      "30\n",
      "33\n",
      "36\n",
      "39\n",
      "42\n",
      "45\n",
      "48\n",
      "51\n",
      "54\n",
      "57\n",
      "60\n",
      "63\n",
      "66\n",
      "69\n",
      "72\n",
      "75\n",
      "78\n",
      "81\n",
      "84\n",
      "87\n",
      "90\n",
      "93\n",
      "96\n",
      "99\n"
     ]
    }
   ],
   "source": [
    "i = 1\n",
    "for i in range (100):\n",
    "    if i % 3 == 0:\n",
    "        print(i)\n",
    "    i += 1"
   ]
  },
  {
   "cell_type": "markdown",
   "id": "04dbf99b",
   "metadata": {},
   "source": [
    "### Bài 5\n",
    "\n",
    "In ra tất cả các số lẻ nhưng không chia hết cho 3 nhỏ hơn 100"
   ]
  },
  {
   "cell_type": "code",
   "execution_count": 5,
   "id": "769eb439",
   "metadata": {},
   "outputs": [
    {
     "name": "stdout",
     "output_type": "stream",
     "text": [
      "1\n",
      "5\n",
      "7\n",
      "11\n",
      "13\n",
      "17\n",
      "19\n",
      "23\n",
      "25\n",
      "29\n",
      "31\n",
      "35\n",
      "37\n",
      "41\n",
      "43\n",
      "47\n",
      "49\n",
      "53\n",
      "55\n",
      "59\n",
      "61\n",
      "65\n",
      "67\n",
      "71\n",
      "73\n",
      "77\n",
      "79\n",
      "83\n",
      "85\n",
      "89\n",
      "91\n",
      "95\n",
      "97\n"
     ]
    }
   ],
   "source": [
    "i = 1\n",
    "for i in range (100):\n",
    "    if i % 3 != 0 and i % 2 != 0:\n",
    "        print(i)\n",
    "    i += 1"
   ]
  },
  {
   "cell_type": "markdown",
   "id": "26dd47fb",
   "metadata": {},
   "source": [
    "### Bài 5\n",
    "\n",
    "Tại một cửa hàng nọ có menu như sau:\n",
    "\n",
    "1. Gà rán giá 35k\n",
    "2. Hamburger giá 50k\n",
    "3. Pesi giá 10k\n",
    "\n",
    "Nhập số lượng món hàng cần mua\n",
    "\n",
    "Tính và in ra tổng giá tiền (hiển thị có dấu chấm mỗi 3 chữ số để người dùng để quan sát)\n",
    "\n",
    "Nếu giá trị đơn hàng trên 2 triệu, giảm 10% cho khách, trên 4 triệu, giảm 15%\n",
    "\n",
    "Tính và in ra tổng giá tiền được giảm (hiển thị có dấu chấm mỗi 3 chữ số để người dùng để quan sát)\n",
    "\n",
    "Tính và in ra tổng giá tiền khách cần trả (hiển thị có dấu chấm mỗi 3 chữ số để người dùng để quan sát)\n",
    "\n",
    "In ra dòng chữ \"Cảm ơn quý khách đã mua hàng\""
   ]
  },
  {
   "cell_type": "code",
   "execution_count": 15,
   "id": "8509df1e",
   "metadata": {},
   "outputs": [
    {
     "name": "stdout",
     "output_type": "stream",
     "text": [
      "Nhap so luong ga ran can mua: 324\n",
      "Nhap so luong hamburger can mua: 132\n",
      "Nhap so luong pepsi can mua: 132\n",
      "Tong gia tien duoc giam = 2,889,000.0\n",
      "Tong gia tien can tra = 16,371,000.0\n"
     ]
    }
   ],
   "source": [
    "ga_ran = float(input(\"Nhap so luong ga ran can mua: \"))\n",
    "hamburger = float(input(\"Nhap so luong hamburger can mua: \"))\n",
    "pepsi = float(input(\"Nhap so luong pepsi can mua: \"))\n",
    "\n",
    "tong_tien = ga_ran*35000 + hamburger*50000 + pepsi*10000\n",
    "\n",
    "if tong_tien > 4000000:\n",
    "    tong_tien_giam = tong_tien*0.15\n",
    "    tong_tien_tra = tong_tien - tong_tien_giam\n",
    "    print(\"Tong gia tien duoc giam = {0:,}\".format(tong_tien_giam))\n",
    "    print(\"Tong gia tien can tra = {0:,}\".format(tong_tien_tra))\n",
    "\n",
    "elif tong_tien > 2000000:\n",
    "    tong_tien_giam = tong_tien*0.1\n",
    "    tong_tien_tra = tong_tien - tong_tien_giam\n",
    "    print(\"Tong gia tien duoc giam = {0:,}\".format(tong_tien_giam))\n",
    "    print(\"Tong gia tien can tra = {0:,}\".format(tong_tien_tra))\n",
    "\n",
    "else:\n",
    "    print(\"Tong gia tien can tra = {0:,}\".format(tong_tien))\n",
    "    "
   ]
  },
  {
   "cell_type": "markdown",
   "id": "ab10a1ce",
   "metadata": {},
   "source": [
    "# Bài 6\n",
    "\n",
    "Nhập vào chiều cao (cm) và cân nặng (kg), tính số BMI và xét rồi xin kết quả theo dữ liệu sau:\n",
    "\n",
    "- BMI < 16: Gầy cấp độ III\n",
    "- 16 <= BMI < 17:  Gầy cấp độ II\n",
    "- 17<= BMI < 18.5: Gầy cấp độ I\n",
    "- 18.5 <= BMI < 25: Bình thường\n",
    "- 25 <= BMI < 30: Thừa cân\n",
    "- 30 <= BMI < 35 : Béo phì cấp độ I\n",
    "- 35 <= BMI < 40: Béo phì cấp độ II\n",
    "- BMI > 40: Béo phì cấp độ III"
   ]
  },
  {
   "cell_type": "code",
   "execution_count": null,
   "id": "1058f441",
   "metadata": {},
   "outputs": [],
   "source": [
    "height = float(input(\"Nhập chiều cao (m): \"))\n",
    "weight = float(input(\"Nhập cân nặng (kg): \"))\n",
    "\n",
    "BMI = round(weight/(height**2),2)\n",
    "\n",
    "if BMI >= 40:\n",
    "    print(\"BMI = \",BMI, \"Béo phì cấp độ III\")\n",
    "elif BMI >= 35:\n",
    "    print(\"BMI = \",BMI, \"Béo phì cấp độ II\")\n",
    "elif BMI >= 30:\n",
    "    print(\"BMI = \",BMI, \"Béo phì cấp độ I\")\n",
    "elif BMI >= 25:\n",
    "    print(\"BMI = \",BMI, \"Thừa cân\")\n",
    "elif BMI >= 18.5:\n",
    "    print(\"BMI = \",BMI, \"Bình thường\")\n",
    "elif BMI >= 17:\n",
    "    print(\"BMI = \",BMI, \"Gầy cấp độ I\")\n",
    "elif BMI >= 16:\n",
    "    print(\"BMI = \",BMI, \"Gầy cấp độ II\")\n",
    "else:\n",
    "    print(\"BMI = \",BMI, \"Gầy cấp độ III\")\n"
   ]
  },
  {
   "cell_type": "markdown",
   "id": "f7620342",
   "metadata": {},
   "source": [
    "### Bài 7\n",
    "\n",
    "Nhập ngày, tháng, năm. Hãy tính và in ra màn hình kể từ đầu năm đến ngày vừa nhập là bao nhiêu ngày."
   ]
  },
  {
   "cell_type": "code",
   "execution_count": 8,
   "id": "4c57f0a5",
   "metadata": {},
   "outputs": [
    {
     "name": "stdout",
     "output_type": "stream",
     "text": [
      "Nhap ngay: 2\n",
      "Nhap thang: 1\n",
      "Nhap nam: 1997\n",
      "1997 khong phai la nam nhuan\n",
      "2\n"
     ]
    }
   ],
   "source": [
    "ngay = int(input(\"Nhap ngay: \"))\n",
    "thang = int(input(\"Nhap thang: \"))\n",
    "nam = int(input(\"Nhap nam: \"))\n",
    "\n",
    "count1 = 0\n",
    "count2 = 0\n",
    "count3 = 0\n",
    "i = 0\n",
    "\n",
    "while thang < 1 and thang > 12:\n",
    "    print(\"Nhap lai thang:\")\n",
    "\n",
    "if (nam % 4 == 0 and nam % 100 != 0) or (nam % 400 == 0 and nam % 100 == 0):\n",
    "    print(nam, \"la nam nhuan\")\n",
    "\n",
    "    for i in range(1,thang):\n",
    "        if i == 1 or i == 3 or i == 5 or i == 7 or i == 8 or i == 10 or i == 12:\n",
    "            ngay1 = 31\n",
    "            count1 += 1\n",
    "\n",
    "        elif i == 2:\n",
    "            ngay2 = 29\n",
    "            count2 += 1\n",
    "            \n",
    "        else:\n",
    "            ngay3 = 30\n",
    "            count3 += 1   \n",
    "      \n",
    "    tong_ngay = count1*31 + count2*29 + count3*30 + ngay\n",
    "    print(tong_ngay)\n",
    "\n",
    "else:\n",
    "    print(nam, \"khong phai la nam nhuan\")\n",
    "    for i in range(1,thang):\n",
    "        if i == 1 or i == 3 or i == 5 or i == 7 or i == 8 or i == 10 or i == 12:\n",
    "            ngay1 = 31\n",
    "            count1 += 1\n",
    "\n",
    "        elif i == 2:\n",
    "            ngay2 = 28\n",
    "            count2 += 1\n",
    "        else:\n",
    "            ngay3 = 30\n",
    "            count3 += 1   \n",
    "      \n",
    "    tong_ngay = count1*31 + count2*28 + count3*30 + ngay\n",
    "    print(tong_ngay)"
   ]
  },
  {
   "cell_type": "code",
   "execution_count": null,
   "id": "d88ac72f",
   "metadata": {},
   "outputs": [],
   "source": []
  }
 ],
 "metadata": {
  "kernelspec": {
   "display_name": "Python 3 (ipykernel)",
   "language": "python",
   "name": "python3"
  },
  "language_info": {
   "codemirror_mode": {
    "name": "ipython",
    "version": 3
   },
   "file_extension": ".py",
   "mimetype": "text/x-python",
   "name": "python",
   "nbconvert_exporter": "python",
   "pygments_lexer": "ipython3",
   "version": "3.10.6"
  }
 },
 "nbformat": 4,
 "nbformat_minor": 5
}
