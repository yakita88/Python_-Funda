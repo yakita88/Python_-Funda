{
 "cells": [
  {
   "cell_type": "code",
   "execution_count": 5,
   "id": "b72f0cb2",
   "metadata": {},
   "outputs": [
    {
     "name": "stdout",
     "output_type": "stream",
     "text": [
      "Nhap so (from 1 to 7): 7\n",
      "Sunday\n"
     ]
    }
   ],
   "source": [
    "n = float(input(\"Nhap so (from 1 to 7): \"))\n",
    "\n",
    "if n == 1:\n",
    "    print(\"Monday\")\n",
    "elif n == 2:\n",
    "    print(\"Tuesday\")\n",
    "elif n == 3:\n",
    "    print(\"Wednesday\")\n",
    "elif n == 4:\n",
    "    print(\"Thursday\")\n",
    "elif n == 5:\n",
    "    print(\"Friday\")\n",
    "elif n == 6:\n",
    "    print(\"Saturday\")\n",
    "elif n == 7:\n",
    "    print(\"Sunday\")\n",
    "else:\n",
    "    print(\"Error, out of the range\")\n",
    "    "
   ]
  }
 ],
 "metadata": {
  "kernelspec": {
   "display_name": "Python 3 (ipykernel)",
   "language": "python",
   "name": "python3"
  },
  "language_info": {
   "codemirror_mode": {
    "name": "ipython",
    "version": 3
   },
   "file_extension": ".py",
   "mimetype": "text/x-python",
   "name": "python",
   "nbconvert_exporter": "python",
   "pygments_lexer": "ipython3",
   "version": "3.10.6"
  }
 },
 "nbformat": 4,
 "nbformat_minor": 5
}
