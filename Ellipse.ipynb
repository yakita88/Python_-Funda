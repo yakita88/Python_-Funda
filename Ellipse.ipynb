{
 "cells": [
  {
   "cell_type": "code",
   "execution_count": null,
   "id": "0f75a39c",
   "metadata": {},
   "outputs": [
    {
     "name": "stdout",
     "output_type": "stream",
     "text": [
      "Nhap r: 100\n"
     ]
    }
   ],
   "source": [
    "import turtle\n",
    "\n",
    "\n",
    "t = turtle.Turtle()\n",
    "\n",
    "r = float(input(\"Nhap r: \"))\n",
    "i = 0\n",
    "j= 0\n",
    "\n",
    "color = [\"red\", \"yellow\", \"green\", \"blue\"]\n",
    "\n",
    "while j < 360:\n",
    "    j += 1\n",
    "    t.pencolor(color[j%4])\n",
    "    for i in range(2):\n",
    "        t.circle(r, 90)\n",
    "        t.circle(r//2, 90)\n",
    "    i += 1\n",
    "    \n",
    "    t.lt(10)\n",
    "\n",
    "\n",
    "    \n",
    "\n",
    "    \n"
   ]
  },
  {
   "cell_type": "code",
   "execution_count": null,
   "id": "b8dd6a73",
   "metadata": {},
   "outputs": [],
   "source": []
  }
 ],
 "metadata": {
  "kernelspec": {
   "display_name": "Python 3 (ipykernel)",
   "language": "python",
   "name": "python3"
  },
  "language_info": {
   "codemirror_mode": {
    "name": "ipython",
    "version": 3
   },
   "file_extension": ".py",
   "mimetype": "text/x-python",
   "name": "python",
   "nbconvert_exporter": "python",
   "pygments_lexer": "ipython3",
   "version": "3.10.6"
  }
 },
 "nbformat": 4,
 "nbformat_minor": 5
}
