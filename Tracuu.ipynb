{
 "cells": [
  {
   "cell_type": "code",
   "execution_count": 22,
   "id": "64d6d5f9",
   "metadata": {},
   "outputs": [
    {
     "name": "stdout",
     "output_type": "stream",
     "text": [
      "Nhap tu can tim: smart\n",
      "Thong minh\n"
     ]
    }
   ],
   "source": [
    "def tracuu(dictionary_db, word):\n",
    "    for i in dictionary_db:\n",
    "        if i == word:\n",
    "            return dictionary_db[i]\n",
    "\n",
    "\n",
    "dictionary = {\n",
    "            'smart': \"Thong minh\",\n",
    "            'phone' : \"Dien thoai\",\n",
    "            'playstation': \"May choi game\",\n",
    "            'laptop' : \"May tinh xach tay\",\n",
    "            'music player' : \"May choi nhac\",\n",
    "            'tablet' : \"May tinh bang\",\n",
    "            'watch' : \"Dong ho deo tay\"\n",
    "           }\n",
    "\n",
    "input_word = input(\"Nhap tu can tim: \")\n",
    "\n",
    "translate_word = tracuu(dictionary,input_word)\n",
    "if translate_word:\n",
    "     print(translate_word)\n",
    "else:\n",
    "    print(input_word, \"not in dictionary\")"
   ]
  }
 ],
 "metadata": {
  "kernelspec": {
   "display_name": "Python 3 (ipykernel)",
   "language": "python",
   "name": "python3"
  },
  "language_info": {
   "codemirror_mode": {
    "name": "ipython",
    "version": 3
   },
   "file_extension": ".py",
   "mimetype": "text/x-python",
   "name": "python",
   "nbconvert_exporter": "python",
   "pygments_lexer": "ipython3",
   "version": "3.10.6"
  }
 },
 "nbformat": 4,
 "nbformat_minor": 5
}
