{
 "cells": [
  {
   "cell_type": "code",
   "execution_count": 4,
   "id": "3942cb31",
   "metadata": {},
   "outputs": [
    {
     "name": "stdout",
     "output_type": "stream",
     "text": [
      "Chi tieu cua ban: []\n",
      "Ban muon lam gi? -\n",
      "1. Them\n",
      "2. Xoa\n",
      "Select option 1 or 2: 1\n",
      "Ten danh muc: Cam\n",
      "Gia cua mat hang: 35000\n",
      "Ngay mua: 21/9\n",
      "Chi tieu cua ban:  [{'ten': 'Cam', 'gia': 35000, 'ngay': '21/9'}]\n"
     ]
    }
   ],
   "source": [
    "def them(mylist, a):    \n",
    "    mylist.append(a)\n",
    "\n",
    "def timdanhmuc(mylist, ten):\n",
    "    kq = -1\n",
    "    length = len(mylist)\n",
    "    for i in range(length):\n",
    "        if mylist[i]['ten'] == ten:\n",
    "            kq = i\n",
    "    return kq\n",
    "\n",
    "def xoadanhmuc(mylist, ten):\n",
    "    if timdanhmuc(mylist, ten) > -1:\n",
    "        del mylist[timdanhmuc(mylist,ten)]\n",
    "    else:\n",
    "        print(ten + \" khong co trong danh sach\")\n",
    "\n",
    "chi_tieu =[]\n",
    "ten = []\n",
    "ngay = []\n",
    "gia = []\n",
    "        \n",
    "print(\"Chi tieu cua ban:\", chi_tieu)\n",
    "print(\"Ban muon lam gi? -\\n\"\\\n",
    "        \"1. Them\\n\" \\\n",
    "        \"2. Xoa\")\n",
    "chon = int(input(\"Select option 1 or 2: \"))\n",
    "ten_input = input(\"Ten danh muc: \")\n",
    "\n",
    "if chon == 1:\n",
    "    gia_input = int(input(\"Gia cua mat hang: \"))\n",
    "    ngay_input = input(\"Ngay mua: \")\n",
    "    ten = {'ten': ten_input, 'gia':gia_input, 'ngay':ngay_input}\n",
    "    them(chi_tieu, ten)\n",
    "    print(\"Chi tieu cua ban: \", chi_tieu)\n",
    "elif chon == 2:\n",
    "    xoadanhmuc(chi_tieu, ten_input)\n",
    "    print(\"Chi tieu cua ban: \", chi_tieu)\n",
    "else:\n",
    "    print(\"Nhap khong hop le\")"
   ]
  },
  {
   "cell_type": "code",
   "execution_count": null,
   "id": "7a944239",
   "metadata": {},
   "outputs": [],
   "source": []
  }
 ],
 "metadata": {
  "kernelspec": {
   "display_name": "Python 3 (ipykernel)",
   "language": "python",
   "name": "python3"
  },
  "language_info": {
   "codemirror_mode": {
    "name": "ipython",
    "version": 3
   },
   "file_extension": ".py",
   "mimetype": "text/x-python",
   "name": "python",
   "nbconvert_exporter": "python",
   "pygments_lexer": "ipython3",
   "version": "3.10.7"
  }
 },
 "nbformat": 4,
 "nbformat_minor": 5
}
