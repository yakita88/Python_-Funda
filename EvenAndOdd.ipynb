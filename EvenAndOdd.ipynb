{
 "cells": [
  {
   "cell_type": "code",
   "execution_count": 2,
   "id": "7b76a5cf",
   "metadata": {},
   "outputs": [
    {
     "name": "stdout",
     "output_type": "stream",
     "text": [
      "Nhap mot so: 4.5\n",
      "Khong phai la so tu nhien\n"
     ]
    }
   ],
   "source": [
    "n = float(input(\"Nhap mot so: \"))\n",
    "\n",
    "if n % 2 == 0:\n",
    "    print(\"So chan\")\n",
    "elif n % 2 == 1:\n",
    "    print(\"So le\")\n",
    "else:\n",
    "    print(\"Khong phai la so tu nhien\")"
   ]
  },
  {
   "cell_type": "code",
   "execution_count": null,
   "id": "654932f3",
   "metadata": {},
   "outputs": [],
   "source": []
  }
 ],
 "metadata": {
  "kernelspec": {
   "display_name": "Python 3 (ipykernel)",
   "language": "python",
   "name": "python3"
  },
  "language_info": {
   "codemirror_mode": {
    "name": "ipython",
    "version": 3
   },
   "file_extension": ".py",
   "mimetype": "text/x-python",
   "name": "python",
   "nbconvert_exporter": "python",
   "pygments_lexer": "ipython3",
   "version": "3.10.6"
  }
 },
 "nbformat": 4,
 "nbformat_minor": 5
}
