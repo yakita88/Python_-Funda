{
 "cells": [
  {
   "cell_type": "code",
   "execution_count": 2,
   "id": "63046870",
   "metadata": {
    "scrolled": true
   },
   "outputs": [],
   "source": [
    "x = ('apple', 'banana', 'cherry')\n",
    "y = id(x)"
   ]
  },
  {
   "cell_type": "code",
   "execution_count": null,
   "id": "87aab4ff",
   "metadata": {},
   "outputs": [],
   "source": []
  },
  {
   "cell_type": "markdown",
   "id": "a2343c13",
   "metadata": {},
   "source": [
    "Nhập (n ngẫu nhiên từ 0-9)\n",
    "Nhập (m)\n",
    "Nếu m = n:\n",
    "    In (Bạn đã đoán đúng)\n",
    "Ngược lại\n",
    "    In (Bạn đã đoán sai! Chúc bạn may mắn lần sau)\n",
    "\n",
    "        "
   ]
  }
 ],
 "metadata": {
  "kernelspec": {
   "display_name": "Python 3 (ipykernel)",
   "language": "python",
   "name": "python3"
  },
  "language_info": {
   "codemirror_mode": {
    "name": "ipython",
    "version": 3
   },
   "file_extension": ".py",
   "mimetype": "text/x-python",
   "name": "python",
   "nbconvert_exporter": "python",
   "pygments_lexer": "ipython3",
   "version": "3.10.6"
  }
 },
 "nbformat": 4,
 "nbformat_minor": 5
}
