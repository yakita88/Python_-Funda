{
 "cells": [
  {
   "cell_type": "markdown",
   "id": "5bc93fb0",
   "metadata": {},
   "source": [
    "# Thực hành nhập xuất dữ liệu & chuỗi\n",
    "\n",
    "### Bài tập tra cứu lệnh\n",
    "\n",
    "Nhập vào một chuỗi, kiểm tra xem chuỗi đó có ký tự nào là chữ in hoa hay không, nếu có thì in True, không có thì in False"
   ]
  },
  {
   "cell_type": "code",
   "execution_count": 1,
   "id": "4b3df2ba",
   "metadata": {},
   "outputs": [
    {
     "name": "stdout",
     "output_type": "stream",
     "text": [
      "Nhập chuỗi: Chung toi\n",
      "True\n"
     ]
    }
   ],
   "source": [
    "string = input(\"Nhập chuỗi: \")\n",
    "kt = not string.islower()\n",
    "print(kt)\n"
   ]
  },
  {
   "cell_type": "markdown",
   "id": "e14eae7c",
   "metadata": {},
   "source": [
    "Nhập vào một chuỗi, kiểm tra xem chuỗi đó có ký tự nào là chữ in thường hay không, nếu có thì in True, không có thì in False"
   ]
  },
  {
   "cell_type": "code",
   "execution_count": null,
   "id": "ab00180c",
   "metadata": {},
   "outputs": [],
   "source": [
    "string = input(\"Nhập chuỗi: \")\n",
    "kt = not string.isupper()\n",
    "print(kt)"
   ]
  },
  {
   "cell_type": "markdown",
   "id": "eab86ecf",
   "metadata": {},
   "source": [
    "Nhập vào một chuỗi a và chuỗi b, tìm vị trí đầu tiên xuất hiện chuỗi b trong chuỗi a"
   ]
  },
  {
   "cell_type": "code",
   "execution_count": 3,
   "id": "051eb4af",
   "metadata": {},
   "outputs": [
    {
     "name": "stdout",
     "output_type": "stream",
     "text": [
      "Nhap chuoi a: Chao moi nguoi\n",
      "Nhap chuoi b: chung mung ban\n",
      "1\n"
     ]
    }
   ],
   "source": [
    "a = input(\"Nhap chuoi a: \")\n",
    "b = input(\"Nhap chuoi b: \")\n",
    "\n",
    "c = a.find(b[1])\n",
    "print(c)\n",
    "\n"
   ]
  },
  {
   "cell_type": "markdown",
   "id": "9239bc4e",
   "metadata": {},
   "source": [
    "Nhập vào một chuỗi a, hãy xóa từ đầu tiên trong chuỗi a, rồi in ra màn hình"
   ]
  },
  {
   "cell_type": "code",
   "execution_count": 8,
   "id": "90967cd9",
   "metadata": {},
   "outputs": [
    {
     "name": "stdout",
     "output_type": "stream",
     "text": [
      "Nhap chuoi a: Chao cac ban\n",
      " cac ban\n"
     ]
    }
   ],
   "source": [
    "a = input(\"Nhap chuoi a: \")\n",
    "c = a.find(\" \")\n",
    "b = a[c:]\n",
    "print(b)"
   ]
  },
  {
   "cell_type": "markdown",
   "id": "05b74fb4",
   "metadata": {},
   "source": [
    "### Bài 1\n",
    "\n",
    "Nhập vào một chuỗi, đếm xem có bao nhiêu từ trong chuỗi kết thúc bằng chữ n"
   ]
  },
  {
   "cell_type": "code",
   "execution_count": 22,
   "id": "d126675c",
   "metadata": {},
   "outputs": [
    {
     "name": "stdout",
     "output_type": "stream",
     "text": [
      "Nhap chuoi a: con ten ten\n",
      "con ten ten\n",
      "3\n"
     ]
    }
   ],
   "source": [
    "a = input(\"Nhap chuoi a: \")\n",
    "a[-1]\n",
    "count = a.count(\"n \") + a.count(\"n,\") + a.count(\"n.\") + (a[-1] == \"n\")\n",
    "print(a)\n",
    "print(count)\n"
   ]
  },
  {
   "cell_type": "markdown",
   "id": "53a78d35",
   "metadata": {},
   "source": [
    "### Bài 2\n",
    "\n",
    "Nhập vào một chuỗi, kiểm tra xem chuỗi đó có ký tự hoa hoặc ký tự thường hay không."
   ]
  },
  {
   "cell_type": "code",
   "execution_count": 22,
   "id": "f5be8c39",
   "metadata": {},
   "outputs": [
    {
     "name": "stdout",
     "output_type": "stream",
     "text": [
      "Nhập chuỗi a: Anh lam gi EM dAy\n",
      "A   True\n",
      "n   False\n",
      "h   False\n",
      "    False\n",
      "l   False\n",
      "a   False\n",
      "m   False\n",
      "    False\n",
      "g   False\n",
      "i   False\n",
      "    False\n",
      "E   True\n",
      "M   True\n",
      "    False\n",
      "d   False\n",
      "A   True\n",
      "y   False\n"
     ]
    }
   ],
   "source": [
    "a = input(\"Nhập chuỗi a: \")\n",
    "\n",
    "do_dai = len(a)\n",
    "for i in range(do_dai):\n",
    "    print (a[i],\" \", a[i].isupper())\n",
    "    index += 1"
   ]
  },
  {
   "cell_type": "markdown",
   "id": "64ca662e",
   "metadata": {},
   "source": [
    "### Bài 3\n",
    "\n",
    "Nhập vào một chuỗi, kiểm tra tính đối xứng của chuỗi đó"
   ]
  },
  {
   "cell_type": "code",
   "execution_count": 27,
   "id": "749f4136",
   "metadata": {},
   "outputs": [
    {
     "name": "stdout",
     "output_type": "stream",
     "text": [
      "Nhap chuoi a: abcba\n",
      "abcba\n",
      "abcba la chuoi doi xung True\n"
     ]
    }
   ],
   "source": [
    "a = input(\"Nhap chuoi a: \")\n",
    "print(\"{} la chuoi doi xung\".format(a), a[::-1] == a)"
   ]
  },
  {
   "cell_type": "markdown",
   "id": "85dd8fef",
   "metadata": {},
   "source": [
    "### Bài 4\n",
    "\n",
    "Nhập vào một chuỗi, in ra các ký tự trong chuỗi và nếu là ký tự hoa thì in kèm True, ký tự thường thì in kèm False"
   ]
  },
  {
   "cell_type": "code",
   "execution_count": 23,
   "id": "0d099247",
   "metadata": {},
   "outputs": [
    {
     "name": "stdout",
     "output_type": "stream",
     "text": [
      "Nhập chuỗi a:IFHJSD jahdkajhfef EFJKD\n",
      "I True\n",
      "F True\n",
      "H True\n",
      "J True\n",
      "S True\n",
      "D True\n",
      "  False\n",
      "j False\n",
      "a False\n",
      "h False\n",
      "d False\n",
      "k False\n",
      "a False\n",
      "j False\n",
      "h False\n",
      "f False\n",
      "e False\n",
      "f False\n",
      "  False\n",
      "E True\n",
      "F True\n",
      "J True\n",
      "K True\n",
      "D True\n"
     ]
    }
   ],
   "source": [
    "a = input(\"Nhập chuỗi a:\")\n",
    "do_dai = len(a)\n",
    "for i in range(do_dai):\n",
    "    print(a[i], a[i].isupper())\n",
    "    index += 1"
   ]
  },
  {
   "cell_type": "markdown",
   "id": "1373dc74",
   "metadata": {},
   "source": [
    "### Bài 5\n",
    "\n",
    "Nhập vào một chuỗi, tìm các ký tự chỉ xuất hiện một lần trong chuỗi (nếu xuất hiện 1 lần in true, xuất hiện nhiều lần in false)\n",
    "\n",
    "Ví dụ:\n",
    "\n",
    "Nhập chuỗi: \"ABAbc\"\n",
    "\n",
    "In:\n",
    "\n",
    "A: False\n",
    "\n",
    "B: True\n",
    "\n",
    "A: False\n",
    "\n",
    "b: True\n",
    "\n",
    "c: True"
   ]
  },
  {
   "cell_type": "code",
   "execution_count": 34,
   "id": "a93bc53d",
   "metadata": {},
   "outputs": [
    {
     "name": "stdout",
     "output_type": "stream",
     "text": [
      "Nhập chuỗi a:AGHD akjgfaliwejfal; DKJGKAL\n",
      "A False\n",
      "G False\n",
      "H True\n",
      "D False\n",
      "  False\n",
      "a False\n",
      "k True\n",
      "j False\n",
      "g True\n",
      "f False\n",
      "a False\n",
      "l False\n",
      "i True\n",
      "w True\n",
      "e True\n",
      "j False\n",
      "f False\n",
      "a False\n",
      "l False\n",
      "; True\n",
      "  False\n",
      "D False\n",
      "K False\n",
      "J True\n",
      "G False\n",
      "K False\n",
      "A False\n",
      "L True\n"
     ]
    }
   ],
   "source": [
    "a = input(\"Nhập chuỗi a:\")\n",
    "do_dai = len(a)\n",
    "for i in range(do_dai):\n",
    "    print(a[i], a.count(a[i]) == 1)\n",
    "    index += 1"
   ]
  },
  {
   "cell_type": "markdown",
   "id": "69bebf4c",
   "metadata": {},
   "source": [
    "### Bài 6\n",
    "\n",
    "Nhập vào một chuỗi, kiểm tra trong chuỗi có con số hay không, nếu có in True, không có in False"
   ]
  },
  {
   "cell_type": "code",
   "execution_count": 37,
   "id": "1b4eab4f",
   "metadata": {},
   "outputs": [
    {
     "name": "stdout",
     "output_type": "stream",
     "text": [
      "Nhập chuỗi a:ahgfjkgs1\n",
      "True\n"
     ]
    }
   ],
   "source": [
    "a = input(\"Nhập chuỗi a:\")\n",
    "b = not a.isalpha()\n",
    "print(b)"
   ]
  },
  {
   "cell_type": "markdown",
   "id": "1e51403c",
   "metadata": {},
   "source": [
    "### Bài 7\n",
    "\n",
    "Nhập vào một chuỗi, tách những con số có trong chuỗi ra rồi tính tổng của chúng\n",
    "\n",
    "In tổng lên màn hình"
   ]
  },
  {
   "cell_type": "code",
   "execution_count": 8,
   "id": "a34e349d",
   "metadata": {},
   "outputs": [
    {
     "name": "stdout",
     "output_type": "stream",
     "text": [
      "Nhập chuỗi a:fjhal18r20942\n",
      "0\n",
      "0\n",
      "0\n",
      "0\n",
      "0\n",
      "1\n",
      "9\n",
      "9\n",
      "11\n",
      "11\n",
      "20\n",
      "24\n",
      "26\n"
     ]
    }
   ],
   "source": [
    "a = input(\"Nhập chuỗi a:\")\n",
    "b = 0\n",
    "\n",
    "for i in a:\n",
    "    if i.isdigit():\n",
    "        z = int(i)\n",
    "        b += z\n",
    "        print(b)\n",
    "    "
   ]
  },
  {
   "cell_type": "code",
   "execution_count": 3,
   "id": "8a6244e1",
   "metadata": {},
   "outputs": [
    {
     "name": "stdout",
     "output_type": "stream",
     "text": [
      "Nhập chuỗi a:fdkaj1302\n",
      "6\n"
     ]
    }
   ],
   "source": [
    "a = input(\"Nhập chuỗi a:\")\n",
    "num = 0\n",
    "tong = 0\n",
    "for i in range (10):\n",
    "    dem = a.count(str(num))\n",
    "    tong += dem*num\n",
    "    num += 1\n",
    "print(tong)"
   ]
  },
  {
   "cell_type": "markdown",
   "id": "e951779d",
   "metadata": {},
   "source": [
    "### Bài 8\n",
    "\n",
    "Nhập vào một chuỗi, đảo ngược chuỗi đã nhập rồi in ra màn hình"
   ]
  },
  {
   "cell_type": "code",
   "execution_count": 10,
   "id": "9305f0f1",
   "metadata": {},
   "outputs": [
    {
     "name": "stdout",
     "output_type": "stream",
     "text": [
      "Nhap chuoi a: fjaf1\n",
      "1fajf\n"
     ]
    }
   ],
   "source": [
    "a = input(\"Nhap chuoi a: \")\n",
    "print(a[::-1])"
   ]
  },
  {
   "cell_type": "markdown",
   "id": "04194b5c",
   "metadata": {},
   "source": [
    "### Bài 9\n",
    "\n",
    "Nhập vào một chuỗi, kiểm tra xem mỗi từ trong chuỗi có được viết hoa chữ cái đầu hay không, nếu tất cả đều được viết hoa thì in ra True, còn không thì in ra False\n",
    "\n",
    "Trong trường hợp là False, hãy viết hoa tất cả các chữ cái đầu của mỗi từ rồi in lên màn hình\n",
    "\n",
    "Cách làm thông thường:"
   ]
  },
  {
   "cell_type": "code",
   "execution_count": 29,
   "id": "9f947c7d",
   "metadata": {},
   "outputs": [
    {
     "name": "stdout",
     "output_type": "stream",
     "text": [
      "Nhap chuoi a: anh oi\n",
      "anh oi  i\n",
      "anh oi  i\n",
      "anh oi  i\n",
      "anh oi  i\n",
      "anh oi  i\n",
      "anh oi  i\n",
      "anh oi  i\n"
     ]
    }
   ],
   "source": []
  },
  {
   "cell_type": "markdown",
   "id": "f43e32af",
   "metadata": {},
   "source": [
    "Cách sử dụng lệnh có sẵn:"
   ]
  },
  {
   "cell_type": "code",
   "execution_count": 21,
   "id": "714f1412",
   "metadata": {},
   "outputs": [
    {
     "name": "stdout",
     "output_type": "stream",
     "text": [
      "Nhap chuoi a: anh oi\n",
      "Anh Oi\n"
     ]
    }
   ],
   "source": [
    "a = input(\"Nhap chuoi a: \")\n",
    "if a.istitle() == True:\n",
    "    print(a, a.istitle())\n",
    "else:\n",
    "    print(a.title())"
   ]
  }
 ],
 "metadata": {
  "kernelspec": {
   "display_name": "Python 3 (ipykernel)",
   "language": "python",
   "name": "python3"
  },
  "language_info": {
   "codemirror_mode": {
    "name": "ipython",
    "version": 3
   },
   "file_extension": ".py",
   "mimetype": "text/x-python",
   "name": "python",
   "nbconvert_exporter": "python",
   "pygments_lexer": "ipython3",
   "version": "3.10.6"
  }
 },
 "nbformat": 4,
 "nbformat_minor": 5
}
