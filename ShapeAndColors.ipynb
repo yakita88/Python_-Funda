{
 "cells": [
  {
   "cell_type": "code",
   "execution_count": null,
   "id": "12f16ebe",
   "metadata": {},
   "outputs": [
    {
     "name": "stdout",
     "output_type": "stream",
     "text": [
      "Circle and square, what is your favorite shape?:square\n",
      "What color will it be?, yellow, red or blue? :blue\n"
     ]
    }
   ],
   "source": [
    "import turtle\n",
    "\n",
    "shapeInput = input('Circle and square, what is your favorite shape?:')\n",
    "\n",
    "if shapeInput == 'circle' or shapeInput == 'square':\n",
    "    colorInput = input('What color will it be?, yellow, red or blue? :')\n",
    "    \n",
    "    if colorInput == 'yellow' or colorInput == 'red' or colorInput == 'blue':\n",
    "        wn = turtle.Screen()\n",
    "        wn.bgcolor(\"black\")\n",
    "        wn.title(\"Your shape\")\n",
    "\n",
    "        displayShape = turtle.Turtle()\n",
    "        displayShape.shape(shapeInput)\n",
    "        displayShape.color(colorInput)\n",
    "        \n",
    "        turtle.done()\n",
    "        \n",
    "    else:\n",
    "        print(\"Sorry, I don't have this color :(\")\n",
    "else:\n",
    "      print(\"Sorry, I don't have this shape :(\")\n",
    "    "
   ]
  },
  {
   "cell_type": "code",
   "execution_count": null,
   "id": "ba893e02",
   "metadata": {},
   "outputs": [],
   "source": []
  }
 ],
 "metadata": {
  "kernelspec": {
   "display_name": "Python 3 (ipykernel)",
   "language": "python",
   "name": "python3"
  },
  "language_info": {
   "codemirror_mode": {
    "name": "ipython",
    "version": 3
   },
   "file_extension": ".py",
   "mimetype": "text/x-python",
   "name": "python",
   "nbconvert_exporter": "python",
   "pygments_lexer": "ipython3",
   "version": "3.10.6"
  }
 },
 "nbformat": 4,
 "nbformat_minor": 5
}
